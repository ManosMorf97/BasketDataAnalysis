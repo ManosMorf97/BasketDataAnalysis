{
 "cells": [
  {
   "cell_type": "code",
   "execution_count": 4,
   "metadata": {},
   "outputs": [
    {
     "name": "stdout",
     "output_type": "stream",
     "text": [
      "Train path: C:\\Users\\manos\\Desktop\\BDA\\BasketDataAnalysis\\cbb.csv\n",
      "Ready\n",
      "\n"
     ]
    },
    {
     "data": {
      "image/png": "[encoded data removed]",
      "text/plain": [
       "<Figure size 648x216 with 1 Axes>"
      ]
     },
     "metadata": {
      "needs_background": "light"
     },
     "output_type": "display_data"
    }
   ],
   "source": [
    "def do_sth(pred,dataset):\n",
    "    array_plot=[]\n",
    "    for x in range(10):\n",
    "        from sklearn.model_selection import train_test_split\n",
    "        dataset_train, dataset_test, pred_train, pred_real=train_test_split(dataset,pred,test_size=0.5,random_state=42)\n",
    "        import numpy as np\n",
    "        from sklearn.neural_network import MLPRegressor\n",
    "        pred_train=np.ravel(pred_train)\n",
    "        LR=MLPRegressor(hidden_layer_sizes=(400,400,400)).fit(dataset_train,pred_train);\n",
    "        pred_test=LR.predict(dataset_test)\n",
    "        from sklearn.metrics import r2_score\n",
    "        array_plot.append(r2_score(pred_real,pred_test))\n",
    "    return array_plot\n",
    "   \n",
    "#C:\\Users\\manos\\Desktop\\BDA\\BasketDataAnalysis\\cbb.csv\n",
    "    \n",
    "import pandas as pd\n",
    "dataset=pd.read_csv(input('Train path: '))\n",
    "#func\n",
    "pred=dataset[['BARTHAG']]\n",
    "dataset.drop(dataset.columns[[0,1,6,20,21,22,23]], axis=1, inplace=True)\n",
    "ds=do_sth(pred,dataset)\n",
    "y=[x*10 for x in ds]\n",
    "import matplotlib.pyplot as plt\n",
    "print('Ready\\n')\n",
    "plt.figure(figsize=(9, 3))\n",
    "plt.subplot(131)\n",
    "plt.bar(range(10), y)\n",
    "plt.xlabel('number of repeats')\n",
    "plt.ylabel('accuracy')\n",
    "plt.show()\n",
    "\n",
    "#from sklearn import LabelEncoder\n",
    "#le=LabelEncoder()\n",
    "#le.fit(dataset[['']])\n"
   ]
  },
  {
   "cell_type": "code",
   "execution_count": null,
   "metadata": {},
   "outputs": [],
   "source": []
  },
  {
   "cell_type": "code",
   "execution_count": null,
   "metadata": {},
   "outputs": [],
   "source": []
  },
  {
   "cell_type": "code",
   "execution_count": 6,
   "metadata": {},
   "outputs": [
    {
     "name": "stdout",
     "output_type": "stream",
     "text": [
      "Train path: C:\\Users\\manos\\Desktop\\BDA\\BasketDataAnalysis\\cbb.csv  \n",
      "Ready\n",
      "\n"
     ]
    },
    {
     "data": {
      "image/png": "[encoded data removed]",
      "text/plain": [
       "<Figure size 648x216 with 1 Axes>"
      ]
     },
     "metadata": {
      "needs_background": "light"
     },
     "output_type": "display_data"
    }
   ],
   "source": [
    "\n",
    "def do_sth(pred,dataset):\n",
    "    array_plot=[]\n",
    "    for x in range(10):\n",
    "        from sklearn.model_selection import train_test_split\n",
    "        dataset_train, dataset_test, pred_train, pred_real=train_test_split(dataset,pred,test_size=0.6,random_state=42)\n",
    "        import numpy as np\n",
    "        from sklearn.neural_network import MLPRegressor\n",
    "        pred_train=np.ravel(pred_train)\n",
    "        LR=MLPRegressor(hidden_layer_sizes=(400,400,400)).fit(dataset_train,pred_train);\n",
    "        pred_test=LR.predict(dataset_test)\n",
    "        from sklearn.metrics import r2_score\n",
    "        array_plot.append(r2_score(pred_real,pred_test))\n",
    "    return array_plot\n",
    "   \n",
    "\n",
    "    \n",
    "import pandas as pd\n",
    "dataset=pd.read_csv(input('Train path: '))\n",
    "#func\n",
    "pred=dataset[['BARTHAG']]\n",
    "dataset.drop(dataset.columns[[0,1,6,20,21,22,23]], axis=1, inplace=True)\n",
    "ds=do_sth(pred,dataset)\n",
    "y=[x*10 for x in ds]\n",
    "import matplotlib.pyplot as plt\n",
    "print('Ready\\n')\n",
    "plt.figure(figsize=(9, 3))\n",
    "plt.subplot(131)\n",
    "plt.bar(range(10), y)\n",
    "plt.xlabel('number of repeats')\n",
    "plt.ylabel('accuracy')\n",
    "plt.show()\n",
    "#from sklearn import LabelEncoder\n",
    "#le=LabelEncoder()\n",
    "#le.fit(dataset[['']])\n",
    "\n"
   ]
  },
  {
   "cell_type": "code",
   "execution_count": 2,
   "metadata": {},
   "outputs": [
    {
     "name": "stdout",
     "output_type": "stream",
     "text": [
      "Train path: C:\\Users\\manos\\Desktop\\BDA\\BasketDataAnalysis\\cbb.csv\n",
      "Ready\n",
      "\n"
     ]
    },
    {
     "data": {
      "image/png": "[encoded data removed]",
      "text/plain": [
       "<Figure size 648x216 with 1 Axes>"
      ]
     },
     "metadata": {
      "needs_background": "light"
     },
     "output_type": "display_data"
    }
   ],
   "source": [
    "\n",
    "def do_sth(pred,dataset):\n",
    "    array_plot=[]\n",
    "    for x in range(10):\n",
    "        from sklearn.model_selection import train_test_split\n",
    "        dataset_train, dataset_test, pred_train, pred_real=train_test_split(dataset,pred,test_size=0.5,random_state=42)\n",
    "        import numpy as np\n",
    "        from sklearn.neural_network import MLPRegressor\n",
    "        pred_train=np.ravel(pred_train)\n",
    "        LR=MLPRegressor(hidden_layer_sizes=(400,400,400)).fit(dataset_train,pred_train);\n",
    "        pred_test=LR.predict(dataset_test)\n",
    "        from sklearn.metrics import r2_score\n",
    "        array_plot.append(r2_score(pred_real,pred_test))\n",
    "    return array_plot\n",
    "   \n",
    "\n",
    "    \n",
    "import pandas as pd\n",
    "dataset=pd.read_csv(input('Train path: '))\n",
    "#func\n",
    "pred=dataset[['BARTHAG']]\n",
    "dataset=dataset[['G','W']]\n",
    "ds=do_sth(pred,dataset)\n",
    "y=[x*10 for x in ds]\n",
    "import matplotlib.pyplot as plt\n",
    "print('Ready\\n')\n",
    "plt.figure(figsize=(9, 3))\n",
    "plt.subplot(131)\n",
    "plt.bar(range(10), y)\n",
    "plt.xlabel('number of repeats')\n",
    "plt.ylabel('accuracy')\n",
    "plt.show()\n",
    "#from sklearn import LabelEncoder\n",
    "#le=LabelEncoder()\n",
    "#le.fit(dataset[['']])\n",
    "\n"
   ]
  },
  {
   "cell_type": "code",
   "execution_count": 3,
   "metadata": {},
   "outputs": [
    {
     "name": "stdout",
     "output_type": "stream",
     "text": [
      "Train path: C:\\Users\\manos\\Desktop\\BDA\\BasketDataAnalysis\\cbb.csv\n",
      "Ready\n",
      "\n"
     ]
    },
    {
     "data": {
      "image/png": "[encoded data removed]",
      "text/plain": [
       "<Figure size 648x216 with 1 Axes>"
      ]
     },
     "metadata": {
      "needs_background": "light"
     },
     "output_type": "display_data"
    }
   ],
   "source": [
    "def do_sth(pred,dataset):\n",
    "    array_plot=[]\n",
    "    for x in range(10):\n",
    "        from sklearn.model_selection import train_test_split\n",
    "        dataset_train, dataset_test, pred_train, pred_real=train_test_split(dataset,pred,test_size=0.2,random_state=42)\n",
    "        import numpy as np\n",
    "        from sklearn.neural_network import MLPRegressor\n",
    "        pred_train=np.ravel(pred_train)\n",
    "        LR=MLPRegressor(hidden_layer_sizes=(400,400,400)).fit(dataset_train,pred_train);\n",
    "        pred_test=LR.predict(dataset_test)\n",
    "        from sklearn.metrics import r2_score\n",
    "        array_plot.append(r2_score(pred_real,pred_test))\n",
    "    return array_plot\n",
    "   \n",
    "\n",
    "    \n",
    "import pandas as pd\n",
    "dataset=pd.read_csv(input('Train path: '))\n",
    "#func\n",
    "pred=dataset[['BARTHAG']]\n",
    "dataset.drop(dataset.columns[[0,1,2,3,6,20,21,22,23]], axis=1, inplace=True)\n",
    "ds=do_sth(pred,dataset)\n",
    "y=[x*10 for x in ds]\n",
    "import matplotlib.pyplot as plt\n",
    "print('Ready\\n')\n",
    "plt.figure(figsize=(9, 3))\n",
    "plt.subplot(131)\n",
    "plt.bar(range(10), y)\n",
    "plt.xlabel('number of repeats')\n",
    "plt.ylabel('accuracy')\n",
    "plt.show()\n",
    "\n",
    "#from sklearn import LabelEncoder\n",
    "#le=LabelEncoder()\n",
    "#le.fit(dataset[['']])\n"
   ]
  }
 ],
 "metadata": {
  "kernelspec": {
   "display_name": "Python 3",
   "language": "python",
   "name": "python3"
  },
  "language_info": {
   "codemirror_mode": {
    "name": "ipython",
    "version": 3
   },
   "file_extension": ".py",
   "mimetype": "text/x-python",
   "name": "python",
   "nbconvert_exporter": "python",
   "pygments_lexer": "ipython3",
   "version": "3.7.0"
  }
 },
 "nbformat": 4,
 "nbformat_minor": 2
}
