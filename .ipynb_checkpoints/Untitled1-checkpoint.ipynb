{
 "cells": [
  {
   "cell_type": "code",
   "execution_count": 4,
   "metadata": {},
   "outputs": [
    {
     "name": "stdout",
     "output_type": "stream",
     "text": [
      "Train path: C:\\Users\\manos\\Desktop\\BDA\\BasketDataAnalysis\\cbb.csv\n",
      "Ready\n",
      "\n"
     ]
    },
    {
     "data": {
      "image/png": "[encoded data removed]",
      "text/plain": [
       "<Figure size 648x216 with 1 Axes>"
      ]
     },
     "metadata": {
      "needs_background": "light"
     },
     "output_type": "display_data"
    }
   ],
   "source": []
  },
  {
   "cell_type": "code",
   "execution_count": 3,
   "metadata": {},
   "outputs": [
    {
     "name": "stdout",
     "output_type": "stream",
     "text": [
      "Train path: C:\\Users\\manos\\Desktop\\BDA\\BasketDataAnalysis\\cbb.csv\n"
     ]
    },
    {
     "name": "stderr",
     "output_type": "stream",
     "text": [
      "C:\\Users\\manos\\Anaconda3\\lib\\site-packages\\sklearn\\preprocessing\\label.py:95: DataConversionWarning: A column-vector y was passed when a 1d array was expected. Please change the shape of y to (n_samples, ), for example using ravel().\n",
      "  y = column_or_1d(y, warn=True)\n",
      "C:\\Users\\manos\\Anaconda3\\lib\\site-packages\\sklearn\\preprocessing\\label.py:128: DataConversionWarning: A column-vector y was passed when a 1d array was expected. Please change the shape of y to (n_samples, ), for example using ravel().\n",
      "  y = column_or_1d(y, warn=True)\n"
     ]
    },
    {
     "name": "stdout",
     "output_type": "stream",
     "text": [
      "Ready\n",
      "\n"
     ]
    },
    {
     "data": {
      "image/png": "[encoded data removed]",
      "text/plain": [
       "<Figure size 648x216 with 1 Axes>"
      ]
     },
     "metadata": {
      "needs_background": "light"
     },
     "output_type": "display_data"
    }
   ],
   "source": [
    "def do_sth(pred,dataset):\n",
    "    array_plot=[]\n",
    "    import numpy as np\n",
    "    for x in range(10):\n",
    "        from sklearn.model_selection import train_test_split\n",
    "        dataset_train, dataset_test, pred_train, pred_real=train_test_split(dataset,pred,test_size=0.2,random_state=42)\n",
    "        from sklearn.neural_network import MLPClassifier\n",
    "        LR=MLPClassifier(hidden_layer_sizes=(600,600,600)).fit(dataset_train,pred_train);\n",
    "        pred_test=LR.predict(dataset_test)\n",
    "        from sklearn.metrics import accuracy_score\n",
    "        array_plot.append(accuracy_score(pred_real,pred_test))\n",
    "    return array_plot\n",
    "   \n",
    "    \n",
    "#C:\\Users\\manos\\Desktop\\BDA\\BasketDataAnalysis\\cbb.csv    \n",
    "import pandas as pd\n",
    "dataset=pd.read_csv(input('Train path: '))\n",
    "#func\n",
    "from sklearn.preprocessing import LabelEncoder\n",
    "le=LabelEncoder()\n",
    "le.fit(dataset[['YEAR']])\n",
    "dataset[['YEAR']]=le.transform(dataset[['YEAR']])\n",
    "le2=LabelEncoder()\n",
    "le2.fit(dataset[['CONF']])\n",
    "dataset[['CONF']]=le2.transform(dataset[['CONF']])\n",
    "pred=dataset[['CONF']]\n",
    "import numpy as np\n",
    "pred=np.ravel(pred)\n",
    "dataset.drop(dataset.columns[[0,1,21,22]], axis=1, inplace=True)\n",
    "ds=do_sth(pred,dataset)\n",
    "y=[x*10 for x in ds]\n",
    "import matplotlib.pyplot as plt\n",
    "print('Ready\\n')\n",
    "plt.figure(figsize=(9, 3))\n",
    "plt.subplot(131)\n",
    "plt.bar(range(10), y)\n",
    "plt.xlabel('number of repeats')\n",
    "plt.ylabel('accuracy')\n",
    "plt.show()\n",
    "\n",
    "#from sklearn import LabelEncoder\n",
    "#le=LabelEncoder()\n",
    "#le.fit(dataset[['']])\n"
   ]
  },
  {
   "cell_type": "code",
   "execution_count": 4,
   "metadata": {},
   "outputs": [
    {
     "name": "stdout",
     "output_type": "stream",
     "text": [
      "Train path: C:\\Users\\manos\\Desktop\\BDA\\BasketDataAnalysis\\cbb.csv\n"
     ]
    },
    {
     "name": "stderr",
     "output_type": "stream",
     "text": [
      "C:\\Users\\manos\\Anaconda3\\lib\\site-packages\\sklearn\\preprocessing\\label.py:95: DataConversionWarning: A column-vector y was passed when a 1d array was expected. Please change the shape of y to (n_samples, ), for example using ravel().\n",
      "  y = column_or_1d(y, warn=True)\n",
      "C:\\Users\\manos\\Anaconda3\\lib\\site-packages\\sklearn\\preprocessing\\label.py:128: DataConversionWarning: A column-vector y was passed when a 1d array was expected. Please change the shape of y to (n_samples, ), for example using ravel().\n",
      "  y = column_or_1d(y, warn=True)\n"
     ]
    },
    {
     "name": "stdout",
     "output_type": "stream",
     "text": [
      "Ready\n",
      "\n"
     ]
    },
    {
     "data": {
      "image/png": "[encoded data removed]",
      "text/plain": [
       "<Figure size 648x216 with 1 Axes>"
      ]
     },
     "metadata": {
      "needs_background": "light"
     },
     "output_type": "display_data"
    }
   ],
   "source": [
    "def do_sth(pred,dataset):\n",
    "    array_plot=[]\n",
    "    import numpy as np\n",
    "    for x in range(10):\n",
    "        from sklearn.model_selection import train_test_split\n",
    "        dataset_train, dataset_test, pred_train, pred_real=train_test_split(dataset,pred,test_size=0.2,random_state=42)\n",
    "        from sklearn.neural_network import MLPClassifier\n",
    "        LR=MLPClassifier(hidden_layer_sizes=(1000,1000,1000)).fit(dataset_train,pred_train);\n",
    "        pred_test=LR.predict(dataset_test)\n",
    "        from sklearn.metrics import accuracy_score\n",
    "        array_plot.append(accuracy_score(pred_real,pred_test))\n",
    "    return array_plot\n",
    "   \n",
    "    \n",
    "#C:\\Users\\manos\\Desktop\\BDA\\BasketDataAnalysis\\cbb.csv    \n",
    "import pandas as pd\n",
    "dataset=pd.read_csv(input('Train path: '))\n",
    "#func\n",
    "from sklearn.preprocessing import LabelEncoder\n",
    "le=LabelEncoder()\n",
    "le.fit(dataset[['YEAR']])\n",
    "dataset[['YEAR']]=le.transform(dataset[['YEAR']])\n",
    "le2=LabelEncoder()\n",
    "le2.fit(dataset[['CONF']])\n",
    "dataset[['CONF']]=le2.transform(dataset[['CONF']])\n",
    "pred=dataset[['CONF']]\n",
    "import numpy as np\n",
    "pred=np.ravel(pred)\n",
    "dataset.drop(dataset.columns[[0,1,21,22]], axis=1, inplace=True)\n",
    "ds=do_sth(pred,dataset)\n",
    "y=[x*10 for x in ds]\n",
    "import matplotlib.pyplot as plt\n",
    "print('Ready\\n')\n",
    "plt.figure(figsize=(9, 3))\n",
    "plt.subplot(131)\n",
    "plt.bar(range(10), y)\n",
    "plt.xlabel('number of repeats')\n",
    "plt.ylabel('accuracy')\n",
    "plt.show()\n",
    "\n",
    "#from sklearn import LabelEncoder\n",
    "#le=LabelEncoder()\n",
    "#le.fit(dataset[['']])\n",
    "\n"
   ]
  },
  {
   "cell_type": "code",
   "execution_count": 5,
   "metadata": {},
   "outputs": [
    {
     "name": "stdout",
     "output_type": "stream",
     "text": [
      "Train path: C:\\Users\\manos\\Desktop\\BDA\\BasketDataAnalysis\\cbb.csv\n",
      "Ready\n",
      "\n"
     ]
    },
    {
     "data": {
      "image/png": "[encoded data removed]",
      "text/plain": [
       "<Figure size 648x216 with 1 Axes>"
      ]
     },
     "metadata": {
      "needs_background": "light"
     },
     "output_type": "display_data"
    }
   ],
   "source": [
    "def do_sth(pred,dataset):\n",
    "    array_plot=[]\n",
    "    for x in range(10):\n",
    "        from sklearn.model_selection import train_test_split\n",
    "        dataset_train, dataset_test, pred_train, pred_real=train_test_split(dataset,pred,test_size=0.2,random_state=42)\n",
    "        import numpy as np\n",
    "        from sklearn.neural_network import MLPRegressor\n",
    "        pred_train=np.ravel(pred_train)\n",
    "        LR=MLPRegressor(hidden_layer_sizes=(400,400,400)).fit(dataset_train,pred_train);\n",
    "        pred_test=LR.predict(dataset_test)\n",
    "        from sklearn.metrics import r2_score\n",
    "        array_plot.append(r2_score(pred_real,pred_test))\n",
    "    return array_plot\n",
    "   \n",
    "\n",
    "    \n",
    "import pandas as pd\n",
    "dataset=pd.read_csv(input('Train path: '))\n",
    "#func\n",
    "pred=dataset[['BARTHAG']]\n",
    "dataset.drop(dataset.columns[[0,1,6,20,21,22,23]], axis=1, inplace=True)\n",
    "ds=do_sth(pred,dataset)\n",
    "y=[x*10 for x in ds]\n",
    "import matplotlib.pyplot as plt\n",
    "print('Ready\\n')\n",
    "plt.figure(figsize=(9, 3))\n",
    "plt.subplot(131)\n",
    "plt.bar(range(10), y)\n",
    "plt.xlabel('number of repeats')\n",
    "plt.ylabel('accuracy')\n",
    "plt.show()\n",
    "\n",
    "#from sklearn import LabelEncoder\n",
    "#le=LabelEncoder()\n",
    "#le.fit(dataset[['']])\n"
   ]
  },
  {
   "cell_type": "code",
   "execution_count": null,
   "metadata": {},
   "outputs": [],
   "source": []
  }
 ],
 "metadata": {
  "kernelspec": {
   "display_name": "Python 3",
   "language": "python",
   "name": "python3"
  },
  "language_info": {
   "codemirror_mode": {
    "name": "ipython",
    "version": 3
   },
   "file_extension": ".py",
   "mimetype": "text/x-python",
   "name": "python",
   "nbconvert_exporter": "python",
   "pygments_lexer": "ipython3",
   "version": "3.7.0"
  }
 },
 "nbformat": 4,
 "nbformat_minor": 2
}
