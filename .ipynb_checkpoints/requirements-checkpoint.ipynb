{
 "cells": [
  {
   "cell_type": "code",
   "execution_count": null,
   "metadata": {},
   "outputs": [],
   "source": [
    "#C:\\Users\\manos\\Desktop\\BDA\\BasketDataAnalysis\\cbb.csv\n",
    "def train(output,trainer_algorithm,path):\n",
    "    import pandas as pd\n",
    "    import numpy as np\n",
    "    dataset=pd.read_csv(path)\n",
    "    from sklearn.preprocessing import LabelEncoder\n",
    "    le2=LabelEncoder()\n",
    "    dataset_train=dataset[dataset['YEAR']!=2019]\n",
    "    y_train=dataset_train[output]\n",
    "    dataset_test=dataset[dataset['YEAR']==2019]\n",
    "    y_test=dataset_test[output]\n",
    "    le2.fit(dataset['CONF'])\n",
    "    transformed=le2.transform(dataset_train['CONF'])\n",
    "    dataset_train.loc[:,'CONF']=transformed\n",
    "    transformed=le2.transform(dataset_test['CONF'])\n",
    "    dataset_test.loc[:,'CONF']=transformed\n",
    "    add_barthag_test=dataset_test[output]\n",
    "    add_barthag_train=dataset_train[output]\n",
    "    add_team_test=dataset_test[output]\n",
    "    dataset_test.drop(dataset.columns[[0,21,22]], axis=1, inplace=True)\n",
    "    dataset_train.drop(dataset.columns[[0,21,22]], axis=1, inplace=True)\n",
    "    dataset_train.drop([output],axis=1)\n",
    "    dataset_test.drop([output],axis=1)\n",
    "    LR=None\n",
    "    if trainer_algorithm=='Decision':\n",
    "        from sklearn.tree import DecisionTreeRegressor\n",
    "        LR=DecisionTreeRegressor().fit(dataset_train,y_train);\n",
    "    else:\n",
    "        from sklearn.ensemble import RandomForestRegressor\n",
    "        LR=RandomForestRegressor().fit(dataset_train,y_train)\n",
    "    if output=='BARTHAG':\n",
    "        dataset_test.loc[:,'Predicted_'+output]=np.around(LR.predict(dataset_test),decimals=4)\n",
    "    else:\n",
    "        dataset_test.loc[:,'Predicted_'+output]=np.rint(LR.predict(dataset_test)).astype(int)\n",
    "\n",
    "    from sklearn.metrics import r2_score\n",
    "    score=r2_score(y_test,dataset_test['Predicted_'+output])\n",
    "    dataset_test.loc[:,output]=add_barthag_test\n",
    "    dataset_test.loc[:,'TEAM']=add_team_test\n",
    "    dataset_test=dataset_test[['TEAM','G','W',output,'Predicted_'+output]]\n",
    "    dataset_test=dataset_test.sort_values(by=['W'],ascending=False)\n",
    "    dataset_test.head(10)"
   ]
  },
  {
   "cell_type": "code",
   "execution_count": null,
   "metadata": {},
   "outputs": [],
   "source": [
    "train('BARTHAG','Decision','C:\\Users\\manos\\Desktop\\BDA\\BasketDataAnalysis\\cbb.csv')"
   ]
  }
 ],
 "metadata": {
  "kernelspec": {
   "display_name": "Python 3",
   "language": "python",
   "name": "python3"
  },
  "language_info": {
   "codemirror_mode": {
    "name": "ipython",
    "version": 3
   },
   "file_extension": ".py",
   "mimetype": "text/x-python",
   "name": "python",
   "nbconvert_exporter": "python",
   "pygments_lexer": "ipython3",
   "version": "3.7.0"
  }
 },
 "nbformat": 4,
 "nbformat_minor": 2
}
