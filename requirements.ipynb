{
 "cells": [
  {
   "cell_type": "code",
   "execution_count": 9,
   "metadata": {},
   "outputs": [],
   "source": [
    "#C:\\Users\\manos\\Desktop\\BDA\\BasketDataAnalysis\\cbb.csv\n",
    "def train(output,trainer_algorithm,path):\n",
    "    import pandas as pd\n",
    "    import numpy as np\n",
    "    dataset=pd.read_csv(path)\n",
    "    from sklearn.preprocessing import LabelEncoder\n",
    "    le2=LabelEncoder()\n",
    "    dataset_train=dataset[dataset['YEAR']!=2019]\n",
    "    y_train=dataset_train[output]\n",
    "    dataset_test=dataset[dataset['YEAR']==2019]\n",
    "    y_test=dataset_test[output]\n",
    "    le2.fit(dataset['CONF'])\n",
    "    transformed=le2.transform(dataset_train['CONF'])\n",
    "    dataset_train.loc[:,'CONF']=transformed\n",
    "    transformed=le2.transform(dataset_test['CONF'])\n",
    "    dataset_test.loc[:,'CONF']=transformed\n",
    "    add_barthag_test=dataset_test[output]\n",
    "    add_barthag_train=dataset_train[output]\n",
    "    add_team_test=dataset_test['TEAM']\n",
    "    dataset_test.drop(dataset.columns[[0,21,22]], axis=1, inplace=True)\n",
    "    dataset_train.drop(dataset.columns[[0,21,22]], axis=1, inplace=True)\n",
    "    dataset_train.drop([output],axis=1)\n",
    "    dataset_test.drop([output],axis=1)\n",
    "    LR=None\n",
    "    if trainer_algorithm=='Decision Tree':\n",
    "        from sklearn.tree import DecisionTreeRegressor\n",
    "        LR=DecisionTreeRegressor().fit(dataset_train,y_train);\n",
    "    else:\n",
    "        from sklearn.ensemble import RandomForestRegressor\n",
    "        LR=RandomForestRegressor().fit(dataset_train,y_train)\n",
    "    if output=='BARTHAG':\n",
    "        dataset_test.loc[:,'Predicted_'+output]=np.around(LR.predict(dataset_test),decimals=4)\n",
    "    else:\n",
    "        dataset_test.loc[:,'Predicted_'+output]=np.around((LR.predict(dataset_test)),decimals=1)\n",
    "\n",
    "    from sklearn.metrics import r2_score\n",
    "    score=r2_score(y_test,dataset_test['Predicted_'+output])\n",
    "    print(\"Score: \"+str(score)\n",
    "    dataset_test.loc[:,output]=add_barthag_test\n",
    "    dataset_test.loc[:,'TEAM']=add_team_test\n",
    "    dataset_test=dataset_test[['TEAM','G','W',output,'Predicted_'+output]]\n",
    "    dataset_test=dataset_test.sort_values(by=['W'],ascending=False)\n",
    "    print(trainer_algorithm)\n",
    "    print(dataset_test.head(10))"
   ]
  },
  {
   "cell_type": "code",
   "execution_count": 10,
   "metadata": {
    "scrolled": false
   },
   "outputs": [
    {
     "name": "stdout",
     "output_type": "stream",
     "text": [
      "Train Path:C:\\Users\\manos\\Desktop\\BDA\\BasketDataAnalysis\\cbb.csv\n"
     ]
    },
    {
     "name": "stderr",
     "output_type": "stream",
     "text": [
      "C:\\Users\\manos\\Anaconda3\\lib\\site-packages\\pandas\\core\\indexing.py:543: SettingWithCopyWarning: \n",
      "A value is trying to be set on a copy of a slice from a DataFrame.\n",
      "Try using .loc[row_indexer,col_indexer] = value instead\n",
      "\n",
      "See the caveats in the documentation: http://pandas.pydata.org/pandas-docs/stable/indexing.html#indexing-view-versus-copy\n",
      "  self.obj[item] = s\n",
      "C:\\Users\\manos\\Anaconda3\\lib\\site-packages\\pandas\\core\\frame.py:3697: SettingWithCopyWarning: \n",
      "A value is trying to be set on a copy of a slice from a DataFrame\n",
      "\n",
      "See the caveats in the documentation: http://pandas.pydata.org/pandas-docs/stable/indexing.html#indexing-view-versus-copy\n",
      "  errors=errors)\n",
      "C:\\Users\\manos\\Anaconda3\\lib\\site-packages\\pandas\\core\\indexing.py:362: SettingWithCopyWarning: \n",
      "A value is trying to be set on a copy of a slice from a DataFrame.\n",
      "Try using .loc[row_indexer,col_indexer] = value instead\n",
      "\n",
      "See the caveats in the documentation: http://pandas.pydata.org/pandas-docs/stable/indexing.html#indexing-view-versus-copy\n",
      "  self.obj[key] = _infer_fill_value(value)\n"
     ]
    },
    {
     "ename": "TypeError",
     "evalue": "can only concatenate str (not \"numpy.float64\") to str",
     "output_type": "error",
     "traceback": [
      "\u001b[1;31m---------------------------------------------------------------------------\u001b[0m",
      "\u001b[1;31mTypeError\u001b[0m                                 Traceback (most recent call last)",
      "\u001b[1;32m<ipython-input-10-bc0fc18b0697>\u001b[0m in \u001b[0;36m<module>\u001b[1;34m()\u001b[0m\n\u001b[0;32m      4\u001b[0m \u001b[1;32mfor\u001b[0m \u001b[0mone\u001b[0m \u001b[1;32min\u001b[0m \u001b[0moutput\u001b[0m\u001b[1;33m:\u001b[0m\u001b[1;33m\u001b[0m\u001b[0m\n\u001b[0;32m      5\u001b[0m     \u001b[1;32mfor\u001b[0m \u001b[0mtwo\u001b[0m \u001b[1;32min\u001b[0m \u001b[0moutput2\u001b[0m\u001b[1;33m:\u001b[0m\u001b[1;33m\u001b[0m\u001b[0m\n\u001b[1;32m----> 6\u001b[1;33m         \u001b[0mtrain\u001b[0m\u001b[1;33m(\u001b[0m\u001b[0mone\u001b[0m\u001b[1;33m,\u001b[0m\u001b[0mtwo\u001b[0m\u001b[1;33m,\u001b[0m\u001b[0mpath\u001b[0m\u001b[1;33m)\u001b[0m\u001b[1;33m\u001b[0m\u001b[0m\n\u001b[0m\u001b[0;32m      7\u001b[0m         \u001b[0mprint\u001b[0m\u001b[1;33m(\u001b[0m\u001b[1;34m'\\n'\u001b[0m\u001b[1;33m)\u001b[0m\u001b[1;33m\u001b[0m\u001b[0m\n",
      "\u001b[1;32m<ipython-input-9-211c4b24863f>\u001b[0m in \u001b[0;36mtrain\u001b[1;34m(output, trainer_algorithm, path)\u001b[0m\n\u001b[0;32m     36\u001b[0m     \u001b[1;32mfrom\u001b[0m \u001b[0msklearn\u001b[0m\u001b[1;33m.\u001b[0m\u001b[0mmetrics\u001b[0m \u001b[1;32mimport\u001b[0m \u001b[0mr2_score\u001b[0m\u001b[1;33m\u001b[0m\u001b[0m\n\u001b[0;32m     37\u001b[0m     \u001b[0mscore\u001b[0m\u001b[1;33m=\u001b[0m\u001b[0mr2_score\u001b[0m\u001b[1;33m(\u001b[0m\u001b[0my_test\u001b[0m\u001b[1;33m,\u001b[0m\u001b[0mdataset_test\u001b[0m\u001b[1;33m[\u001b[0m\u001b[1;34m'Predicted_'\u001b[0m\u001b[1;33m+\u001b[0m\u001b[0moutput\u001b[0m\u001b[1;33m]\u001b[0m\u001b[1;33m)\u001b[0m\u001b[1;33m\u001b[0m\u001b[0m\n\u001b[1;32m---> 38\u001b[1;33m     \u001b[0mprint\u001b[0m\u001b[1;33m(\u001b[0m\u001b[1;34m\"Score: \"\u001b[0m\u001b[1;33m+\u001b[0m\u001b[0mscore\u001b[0m\u001b[1;33m)\u001b[0m\u001b[1;33m\u001b[0m\u001b[0m\n\u001b[0m\u001b[0;32m     39\u001b[0m     \u001b[0mdataset_test\u001b[0m\u001b[1;33m.\u001b[0m\u001b[0mloc\u001b[0m\u001b[1;33m[\u001b[0m\u001b[1;33m:\u001b[0m\u001b[1;33m,\u001b[0m\u001b[0moutput\u001b[0m\u001b[1;33m]\u001b[0m\u001b[1;33m=\u001b[0m\u001b[0madd_barthag_test\u001b[0m\u001b[1;33m\u001b[0m\u001b[0m\n\u001b[0;32m     40\u001b[0m     \u001b[0mdataset_test\u001b[0m\u001b[1;33m.\u001b[0m\u001b[0mloc\u001b[0m\u001b[1;33m[\u001b[0m\u001b[1;33m:\u001b[0m\u001b[1;33m,\u001b[0m\u001b[1;34m'TEAM'\u001b[0m\u001b[1;33m]\u001b[0m\u001b[1;33m=\u001b[0m\u001b[0madd_team_test\u001b[0m\u001b[1;33m\u001b[0m\u001b[0m\n",
      "\u001b[1;31mTypeError\u001b[0m: can only concatenate str (not \"numpy.float64\") to str"
     ]
    }
   ],
   "source": [
    "output=['BARTHAG','2P_O','3P_O']\n",
    "output2=['Decision Tree','Random Forest']\n",
    "path=input('Train Path:')\n",
    "for one in output:\n",
    "    for two in output2:\n",
    "        train(one,two,path)\n",
    "        print('\\n')"
   ]
  }
 ],
 "metadata": {
  "kernelspec": {
   "display_name": "Python 3",
   "language": "python",
   "name": "python3"
  },
  "language_info": {
   "codemirror_mode": {
    "name": "ipython",
    "version": 3
   },
   "file_extension": ".py",
   "mimetype": "text/x-python",
   "name": "python",
   "nbconvert_exporter": "python",
   "pygments_lexer": "ipython3",
   "version": "3.7.0"
  }
 },
 "nbformat": 4,
 "nbformat_minor": 2
}
