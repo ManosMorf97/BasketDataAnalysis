{
 "cells": [
  {
   "cell_type": "code",
   "execution_count": 27,
   "metadata": {},
   "outputs": [],
   "source": [
    "#C:\\Users\\manos\\Desktop\\BDA\\BasketDataAnalysis\\cbb.csv\n",
    "def train(output,trainer_algorithm,path):\n",
    "    import pandas as pd\n",
    "    import numpy as np\n",
    "    dataset=pd.read_csv(path)\n",
    "    from sklearn.preprocessing import LabelEncoder\n",
    "    le2=LabelEncoder()\n",
    "    dataset_train=dataset[dataset['YEAR']!=2019]\n",
    "    y_train=dataset_train[output]\n",
    "    dataset_test=dataset[dataset['YEAR']==2019]\n",
    "    y_test=dataset_test[output]\n",
    "    le2.fit(dataset['CONF'])\n",
    "    transformed=le2.transform(dataset_train['CONF'])\n",
    "    dataset_train.loc[:,'CONF']=transformed\n",
    "    transformed=le2.transform(dataset_test['CONF'])\n",
    "    dataset_test.loc[:,'CONF']=transformed\n",
    "    add_barthag_test=dataset_test[output]\n",
    "    add_barthag_train=dataset_train[output]\n",
    "    add_team_test=dataset_test['TEAM']\n",
    "    dataset_test.drop(dataset.columns[[0,21,22]], axis=1, inplace=True)\n",
    "    dataset_train.drop(dataset.columns[[0,21,22]], axis=1, inplace=True)\n",
    "    dataset_train.drop([output],axis=1)\n",
    "    dataset_test.drop([output],axis=1)\n",
    "    LR=None\n",
    "    if trainer_algorithm=='Decision':\n",
    "        from sklearn.tree import DecisionTreeRegressor\n",
    "        LR=DecisionTreeRegressor().fit(dataset_train,y_train);\n",
    "    else:\n",
    "        from sklearn.ensemble import RandomForestRegressor\n",
    "        LR=RandomForestRegressor().fit(dataset_train,y_train)\n",
    "    if output=='BARTHAG':\n",
    "        dataset_test.loc[:,'Predicted_'+output]=np.around(LR.predict(dataset_test),decimals=4)\n",
    "    else:\n",
    "        dataset_test.loc[:,'Predicted_'+output]=np.around((LR.predict(dataset_test)),decimals=1)\n",
    "\n",
    "    from sklearn.metrics import r2_score\n",
    "    score=r2_score(y_test,dataset_test['Predicted_'+output])\n",
    "    dataset_test.loc[:,output]=add_barthag_test\n",
    "    dataset_test.loc[:,'TEAM']=add_team_test\n",
    "    dataset_test=dataset_test[['TEAM','G','W',output,'Predicted_'+output]]\n",
    "    dataset_test=dataset_test.sort_values(by=['W'],ascending=False)\n",
    "    print(dataset_test.head(10))"
   ]
  },
  {
   "cell_type": "code",
   "execution_count": 29,
   "metadata": {
    "scrolled": false
   },
   "outputs": [
    {
     "name": "stdout",
     "output_type": "stream",
     "text": [
      "Train Path:C:\\Users\\manos\\Desktop\\BDA\\BasketDataAnalysis\\cbb.csv\n"
     ]
    },
    {
     "name": "stderr",
     "output_type": "stream",
     "text": [
      "C:\\Users\\manos\\Anaconda3\\lib\\site-packages\\pandas\\core\\indexing.py:543: SettingWithCopyWarning: \n",
      "A value is trying to be set on a copy of a slice from a DataFrame.\n",
      "Try using .loc[row_indexer,col_indexer] = value instead\n",
      "\n",
      "See the caveats in the documentation: http://pandas.pydata.org/pandas-docs/stable/indexing.html#indexing-view-versus-copy\n",
      "  self.obj[item] = s\n",
      "C:\\Users\\manos\\Anaconda3\\lib\\site-packages\\pandas\\core\\frame.py:3697: SettingWithCopyWarning: \n",
      "A value is trying to be set on a copy of a slice from a DataFrame\n",
      "\n",
      "See the caveats in the documentation: http://pandas.pydata.org/pandas-docs/stable/indexing.html#indexing-view-versus-copy\n",
      "  errors=errors)\n",
      "C:\\Users\\manos\\Anaconda3\\lib\\site-packages\\pandas\\core\\indexing.py:362: SettingWithCopyWarning: \n",
      "A value is trying to be set on a copy of a slice from a DataFrame.\n",
      "Try using .loc[row_indexer,col_indexer] = value instead\n",
      "\n",
      "See the caveats in the documentation: http://pandas.pydata.org/pandas-docs/stable/indexing.html#indexing-view-versus-copy\n",
      "  self.obj[key] = _infer_fill_value(value)\n"
     ]
    },
    {
     "name": "stdout",
     "output_type": "stream",
     "text": [
      "              TEAM   G   W  BARTHAG  Predicted_BARTHAG\n",
      "6         Virginia  38  35   0.9736             0.9761\n",
      "1726       Houston  37  33   0.9439             0.9417\n",
      "29         Gonzaga  37  33   0.9744             0.9726\n",
      "16            Duke  38  32   0.9646             0.9648\n",
      "1513       Buffalo  35  32   0.8819             0.8820\n",
      "32    Michigan St.  39  32   0.9597             0.9600\n",
      "3       Texas Tech  38  31   0.9696             0.9726\n",
      "1506     UC Irvine  36  31   0.7458             0.7458\n",
      "1754     Tennessee  36  31   0.9488             0.9498\n",
      "1526       Wofford  32  30   0.8892             0.8931\n"
     ]
    },
    {
     "name": "stderr",
     "output_type": "stream",
     "text": [
      "C:\\Users\\manos\\Anaconda3\\lib\\site-packages\\pandas\\core\\indexing.py:362: SettingWithCopyWarning: \n",
      "A value is trying to be set on a copy of a slice from a DataFrame.\n",
      "Try using .loc[row_indexer,col_indexer] = value instead\n",
      "\n",
      "See the caveats in the documentation: http://pandas.pydata.org/pandas-docs/stable/indexing.html#indexing-view-versus-copy\n",
      "  self.obj[key] = _infer_fill_value(value)\n",
      "C:\\Users\\manos\\Anaconda3\\lib\\site-packages\\pandas\\core\\indexing.py:543: SettingWithCopyWarning: \n",
      "A value is trying to be set on a copy of a slice from a DataFrame.\n",
      "Try using .loc[row_indexer,col_indexer] = value instead\n",
      "\n",
      "See the caveats in the documentation: http://pandas.pydata.org/pandas-docs/stable/indexing.html#indexing-view-versus-copy\n",
      "  self.obj[item] = s\n"
     ]
    },
    {
     "name": "stdout",
     "output_type": "stream",
     "text": [
      "              TEAM   G   W  BARTHAG  Predicted_BARTHAG\n",
      "6         Virginia  38  35   0.9736             0.9719\n",
      "1726       Houston  37  33   0.9439             0.9421\n",
      "29         Gonzaga  37  33   0.9744             0.9716\n",
      "16            Duke  38  32   0.9646             0.9658\n",
      "1513       Buffalo  35  32   0.8819             0.8823\n",
      "32    Michigan St.  39  32   0.9597             0.9608\n",
      "3       Texas Tech  38  31   0.9696             0.9685\n",
      "1506     UC Irvine  36  31   0.7458             0.7464\n",
      "1754     Tennessee  36  31   0.9488             0.9487\n",
      "1526       Wofford  32  30   0.8892             0.8919\n"
     ]
    },
    {
     "name": "stderr",
     "output_type": "stream",
     "text": [
      "C:\\Users\\manos\\Anaconda3\\lib\\site-packages\\pandas\\core\\frame.py:3697: SettingWithCopyWarning: \n",
      "A value is trying to be set on a copy of a slice from a DataFrame\n",
      "\n",
      "See the caveats in the documentation: http://pandas.pydata.org/pandas-docs/stable/indexing.html#indexing-view-versus-copy\n",
      "  errors=errors)\n"
     ]
    },
    {
     "name": "stdout",
     "output_type": "stream",
     "text": [
      "              TEAM   G   W  2P_O  Predicted_2P_O\n",
      "6         Virginia  38  35  52.5            52.5\n",
      "1726       Houston  37  33  51.3            51.3\n",
      "29         Gonzaga  37  33  61.4            60.9\n",
      "16            Duke  38  32  58.0            58.2\n",
      "1513       Buffalo  35  32  55.7            55.7\n",
      "32    Michigan St.  39  32  54.3            54.3\n",
      "3       Texas Tech  38  31  52.8            52.8\n",
      "1506     UC Irvine  36  31  50.1            50.1\n",
      "1754     Tennessee  36  31  55.4            55.4\n",
      "1526       Wofford  32  30  53.9            53.9\n"
     ]
    },
    {
     "name": "stderr",
     "output_type": "stream",
     "text": [
      "C:\\Users\\manos\\Anaconda3\\lib\\site-packages\\pandas\\core\\indexing.py:362: SettingWithCopyWarning: \n",
      "A value is trying to be set on a copy of a slice from a DataFrame.\n",
      "Try using .loc[row_indexer,col_indexer] = value instead\n",
      "\n",
      "See the caveats in the documentation: http://pandas.pydata.org/pandas-docs/stable/indexing.html#indexing-view-versus-copy\n",
      "  self.obj[key] = _infer_fill_value(value)\n",
      "C:\\Users\\manos\\Anaconda3\\lib\\site-packages\\pandas\\core\\indexing.py:543: SettingWithCopyWarning: \n",
      "A value is trying to be set on a copy of a slice from a DataFrame.\n",
      "Try using .loc[row_indexer,col_indexer] = value instead\n",
      "\n",
      "See the caveats in the documentation: http://pandas.pydata.org/pandas-docs/stable/indexing.html#indexing-view-versus-copy\n",
      "  self.obj[item] = s\n",
      "C:\\Users\\manos\\Anaconda3\\lib\\site-packages\\pandas\\core\\frame.py:3697: SettingWithCopyWarning: \n",
      "A value is trying to be set on a copy of a slice from a DataFrame\n",
      "\n",
      "See the caveats in the documentation: http://pandas.pydata.org/pandas-docs/stable/indexing.html#indexing-view-versus-copy\n",
      "  errors=errors)\n"
     ]
    },
    {
     "name": "stdout",
     "output_type": "stream",
     "text": [
      "              TEAM   G   W  2P_O  Predicted_2P_O\n",
      "6         Virginia  38  35  52.5            52.5\n",
      "1726       Houston  37  33  51.3            51.3\n",
      "29         Gonzaga  37  33  61.4            60.4\n",
      "16            Duke  38  32  58.0            58.3\n",
      "1513       Buffalo  35  32  55.7            55.8\n",
      "32    Michigan St.  39  32  54.3            54.3\n",
      "3       Texas Tech  38  31  52.8            52.8\n",
      "1506     UC Irvine  36  31  50.1            50.1\n",
      "1754     Tennessee  36  31  55.4            55.4\n",
      "1526       Wofford  32  30  53.9            53.8\n",
      "              TEAM   G   W  3P_O  Predicted_3P_O\n",
      "6         Virginia  38  35  39.5            39.5\n",
      "1726       Houston  37  33  35.5            35.5\n",
      "29         Gonzaga  37  33  36.3            36.3\n",
      "16            Duke  38  32  30.8            30.8\n",
      "1513       Buffalo  35  32  33.7            33.7\n",
      "32    Michigan St.  39  32  37.8            37.8\n",
      "3       Texas Tech  38  31  36.5            36.5\n",
      "1506     UC Irvine  36  31  35.9            35.9\n",
      "1754     Tennessee  36  31  36.7            36.7\n",
      "1526       Wofford  32  30  41.4            41.1\n",
      "              TEAM   G   W  3P_O  Predicted_3P_O\n",
      "6         Virginia  38  35  39.5            39.5\n",
      "1726       Houston  37  33  35.5            35.5\n",
      "29         Gonzaga  37  33  36.3            36.3\n",
      "16            Duke  38  32  30.8            30.8\n",
      "1513       Buffalo  35  32  33.7            33.7\n",
      "32    Michigan St.  39  32  37.8            37.8\n",
      "3       Texas Tech  38  31  36.5            36.5\n",
      "1506     UC Irvine  36  31  35.9            35.9\n",
      "1754     Tennessee  36  31  36.7            36.7\n",
      "1526       Wofford  32  30  41.4            41.3\n"
     ]
    },
    {
     "name": "stderr",
     "output_type": "stream",
     "text": [
      "C:\\Users\\manos\\Anaconda3\\lib\\site-packages\\pandas\\core\\indexing.py:362: SettingWithCopyWarning: \n",
      "A value is trying to be set on a copy of a slice from a DataFrame.\n",
      "Try using .loc[row_indexer,col_indexer] = value instead\n",
      "\n",
      "See the caveats in the documentation: http://pandas.pydata.org/pandas-docs/stable/indexing.html#indexing-view-versus-copy\n",
      "  self.obj[key] = _infer_fill_value(value)\n",
      "C:\\Users\\manos\\Anaconda3\\lib\\site-packages\\pandas\\core\\indexing.py:543: SettingWithCopyWarning: \n",
      "A value is trying to be set on a copy of a slice from a DataFrame.\n",
      "Try using .loc[row_indexer,col_indexer] = value instead\n",
      "\n",
      "See the caveats in the documentation: http://pandas.pydata.org/pandas-docs/stable/indexing.html#indexing-view-versus-copy\n",
      "  self.obj[item] = s\n"
     ]
    }
   ],
   "source": [
    "output=['BARTHAG','2P_O','3P_O']\n",
    "output2=['Decision','Random']\n",
    "path=input('Train Path:')\n",
    "for one in output:\n",
    "    for two in output2:\n",
    "        train(one,two,path)"
   ]
  }
 ],
 "metadata": {
  "kernelspec": {
   "display_name": "Python 3",
   "language": "python",
   "name": "python3"
  },
  "language_info": {
   "codemirror_mode": {
    "name": "ipython",
    "version": 3
   },
   "file_extension": ".py",
   "mimetype": "text/x-python",
   "name": "python",
   "nbconvert_exporter": "python",
   "pygments_lexer": "ipython3",
   "version": "3.7.0"
  }
 },
 "nbformat": 4,
 "nbformat_minor": 2
}
